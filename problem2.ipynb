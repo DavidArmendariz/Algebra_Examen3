{
 "cells": [
  {
   "cell_type": "code",
   "execution_count": 29,
   "metadata": {},
   "outputs": [],
   "source": [
    "import cv2\n",
    "import os\n",
    "import numpy as np\n",
    "from IPython.display import display, Image"
   ]
  },
  {
   "cell_type": "code",
   "execution_count": 17,
   "metadata": {},
   "outputs": [
    {
     "name": "stdout",
     "output_type": "stream",
     "text": [
      "frames per second = 29.875\n"
     ]
    }
   ],
   "source": [
    "video = cv2.VideoCapture('video.mp4')\n",
    "fps = video.get(cv2.CAP_PROP_FPS)\n",
    "print('frames per second =',fps)"
   ]
  },
  {
   "cell_type": "code",
   "execution_count": 18,
   "metadata": {},
   "outputs": [],
   "source": [
    "count = 1\n",
    "for i in range(0, 149, 4):\n",
    "    success, image = video.read()\n",
    "    cv2.imwrite(f\"frames/frame{count}.jpg\", image)\n",
    "    count += 1\n",
    "    if count > 30:\n",
    "        break"
   ]
  },
  {
   "cell_type": "code",
   "execution_count": 26,
   "metadata": {},
   "outputs": [],
   "source": [
    "input_folder = \"frames\"\n",
    "target_width = 400\n",
    "target_height = 600\n",
    "images = []\n",
    "\n",
    "for filename in os.listdir(input_folder):\n",
    "    if filename.endswith(\".jpg\"):\n",
    "        image_path = os.path.join(input_folder, filename)\n",
    "        original_image = cv2.imread(image_path)\n",
    "        resized_image = cv2.resize(original_image, (target_width, target_height))\n",
    "        grayscale_image = cv2.cvtColor(resized_image, cv2.COLOR_BGR2GRAY)\n",
    "        images.append(grayscale_image.flatten())       "
   ]
  },
  {
   "cell_type": "code",
   "execution_count": 39,
   "metadata": {},
   "outputs": [
    {
     "data": {
      "text/plain": [
       "(240000, 30)"
      ]
     },
     "execution_count": 39,
     "metadata": {},
     "output_type": "execute_result"
    }
   ],
   "source": [
    "H = np.array(images)\n",
    "H.shape"
   ]
  },
  {
   "cell_type": "code",
   "execution_count": 51,
   "metadata": {},
   "outputs": [
    {
     "name": "stdout",
     "output_type": "stream",
     "text": [
      "(240000, 30)\n"
     ]
    }
   ],
   "source": [
    "column_means = np.mean(images, axis=0)\n",
    "A = H - column_means\n",
    "print(A.shape)"
   ]
  },
  {
   "cell_type": "code",
   "execution_count": 52,
   "metadata": {},
   "outputs": [
    {
     "ename": "MemoryError",
     "evalue": "Unable to allocate 429. GiB for an array with shape (240000, 240000) and data type float64",
     "output_type": "error",
     "traceback": [
      "\u001b[0;31m---------------------------------------------------------------------------\u001b[0m",
      "\u001b[0;31mMemoryError\u001b[0m                               Traceback (most recent call last)",
      "\u001b[1;32m/home/david/eafit/Algebra_Examen3/problem2.ipynb Cell 7\u001b[0m line \u001b[0;36m1\n\u001b[0;32m----> <a href='vscode-notebook-cell://wsl%2Bubuntu/home/david/eafit/Algebra_Examen3/problem2.ipynb#W6sdnNjb2RlLXJlbW90ZQ%3D%3D?line=0'>1</a>\u001b[0m eigenvalues, eigenvectors \u001b[39m=\u001b[39m np\u001b[39m.\u001b[39mlinalg\u001b[39m.\u001b[39meig(A \u001b[39m@\u001b[39;49m A\u001b[39m.\u001b[39;49mT)\n",
      "\u001b[0;31mMemoryError\u001b[0m: Unable to allocate 429. GiB for an array with shape (240000, 240000) and data type float64"
     ]
    }
   ],
   "source": [
    "eigenvalues, eigenvectors = np.linalg.eig(A @ A.T)"
   ]
  },
  {
   "cell_type": "code",
   "execution_count": 46,
   "metadata": {},
   "outputs": [
    {
     "name": "stdout",
     "output_type": "stream",
     "text": [
      "Max eigenvalue: 16427007309.529987\n",
      "[-0.19497397 -0.18578931 -0.18763707 -0.1780573  -0.1905162  -0.18400677\n",
      " -0.17386799 -0.18661848 -0.15599066 -0.18222071 -0.16635798 -0.19401173\n",
      " -0.14053157 -0.19313822 -0.17509773 -0.17340141 -0.1902724  -0.18995385\n",
      " -0.18045654 -0.17651294 -0.19179004 -0.17430883 -0.1908365  -0.17350308\n",
      " -0.19207213 -0.19129642 -0.19498131 -0.18892525 -0.17860795 -0.18952206]\n"
     ]
    }
   ],
   "source": [
    "max_eigenvalue_index = np.argmax(eigenvalues)\n",
    "max_eigenvalue = eigenvalues[max_eigenvalue_index]\n",
    "max_eigenvector = eigenvectors[:, max_eigenvalue_index]\n",
    "print(f\"Max eigenvalue: {max_eigenvalue}\")\n",
    "print(max_eigenvector)"
   ]
  },
  {
   "cell_type": "code",
   "execution_count": 47,
   "metadata": {},
   "outputs": [
    {
     "name": "stdout",
     "output_type": "stream",
     "text": [
      "Min eigenvalue: 27283.00226477531\n",
      "[-6.94782358e-05  8.44650298e-03 -5.52075458e-03  3.95146227e-05\n",
      " -7.89679626e-04 -1.35757358e-02 -2.94818164e-01 -3.71784123e-05\n",
      "  4.35615012e-04  8.12505813e-03 -3.66449124e-04  2.38048370e-03\n",
      " -5.98536784e-05 -4.28141180e-03 -7.10003694e-02 -5.62056390e-01\n",
      "  1.34878034e-03  1.00061492e-04  5.17168611e-03  3.19596536e-02\n",
      "  4.83459717e-05  1.52736197e-01 -1.06621704e-03  7.53092938e-01\n",
      "  1.35503666e-03  2.45846951e-03 -2.48847625e-04  7.70567560e-04\n",
      " -1.48214074e-02  2.30516765e-04]\n"
     ]
    }
   ],
   "source": [
    "min_eigenvalue_index = np.argmin(eigenvalues)\n",
    "min_eigenvalue = eigenvalues[min_eigenvalue_index]\n",
    "min_eigenvector = eigenvectors[:, min_eigenvalue_index]\n",
    "print(f\"Min eigenvalue: {min_eigenvalue}\")\n",
    "print(min_eigenvector)"
   ]
  },
  {
   "cell_type": "code",
   "execution_count": 48,
   "metadata": {},
   "outputs": [],
   "source": [
    "def convert_array_to_image(vector):\n",
    "    flattened_array = np.array(vector, dtype=np.uint8)\n",
    "    desired_size = (600, 400) \n",
    "    reshaped_image = flattened_array.reshape(desired_size)\n",
    "    display(Image(data=cv2.imencode('.png', reshaped_image)[1].tostring()))"
   ]
  },
  {
   "cell_type": "code",
   "execution_count": 50,
   "metadata": {},
   "outputs": [
    {
     "name": "stdout",
     "output_type": "stream",
     "text": [
      "30\n"
     ]
    },
    {
     "ename": "ValueError",
     "evalue": "cannot reshape array of size 30 into shape (600,400)",
     "output_type": "error",
     "traceback": [
      "\u001b[0;31m---------------------------------------------------------------------------\u001b[0m",
      "\u001b[0;31mValueError\u001b[0m                                Traceback (most recent call last)",
      "\u001b[1;32m/home/david/eafit/Algebra_Examen3/problem2.ipynb Cell 11\u001b[0m line \u001b[0;36m2\n\u001b[1;32m      <a href='vscode-notebook-cell://wsl%2Bubuntu/home/david/eafit/Algebra_Examen3/problem2.ipynb#X13sdnNjb2RlLXJlbW90ZQ%3D%3D?line=0'>1</a>\u001b[0m \u001b[39mprint\u001b[39m(\u001b[39mlen\u001b[39m(max_eigenvector))\n\u001b[0;32m----> <a href='vscode-notebook-cell://wsl%2Bubuntu/home/david/eafit/Algebra_Examen3/problem2.ipynb#X13sdnNjb2RlLXJlbW90ZQ%3D%3D?line=1'>2</a>\u001b[0m convert_array_to_image(max_eigenvector)\n",
      "\u001b[1;32m/home/david/eafit/Algebra_Examen3/problem2.ipynb Cell 11\u001b[0m line \u001b[0;36m4\n\u001b[1;32m      <a href='vscode-notebook-cell://wsl%2Bubuntu/home/david/eafit/Algebra_Examen3/problem2.ipynb#X13sdnNjb2RlLXJlbW90ZQ%3D%3D?line=1'>2</a>\u001b[0m flattened_array \u001b[39m=\u001b[39m np\u001b[39m.\u001b[39marray(vector, dtype\u001b[39m=\u001b[39mnp\u001b[39m.\u001b[39muint8)\n\u001b[1;32m      <a href='vscode-notebook-cell://wsl%2Bubuntu/home/david/eafit/Algebra_Examen3/problem2.ipynb#X13sdnNjb2RlLXJlbW90ZQ%3D%3D?line=2'>3</a>\u001b[0m desired_size \u001b[39m=\u001b[39m (\u001b[39m600\u001b[39m, \u001b[39m400\u001b[39m) \n\u001b[0;32m----> <a href='vscode-notebook-cell://wsl%2Bubuntu/home/david/eafit/Algebra_Examen3/problem2.ipynb#X13sdnNjb2RlLXJlbW90ZQ%3D%3D?line=3'>4</a>\u001b[0m reshaped_image \u001b[39m=\u001b[39m flattened_array\u001b[39m.\u001b[39;49mreshape(desired_size)\n\u001b[1;32m      <a href='vscode-notebook-cell://wsl%2Bubuntu/home/david/eafit/Algebra_Examen3/problem2.ipynb#X13sdnNjb2RlLXJlbW90ZQ%3D%3D?line=4'>5</a>\u001b[0m display(Image(data\u001b[39m=\u001b[39mcv2\u001b[39m.\u001b[39mimencode(\u001b[39m'\u001b[39m\u001b[39m.png\u001b[39m\u001b[39m'\u001b[39m, reshaped_image)[\u001b[39m1\u001b[39m]\u001b[39m.\u001b[39mtostring()))\n",
      "\u001b[0;31mValueError\u001b[0m: cannot reshape array of size 30 into shape (600,400)"
     ]
    }
   ],
   "source": [
    "print(len(max_eigenvector))\n",
    "convert_array_to_image(max_eigenvector)"
   ]
  },
  {
   "cell_type": "code",
   "execution_count": null,
   "metadata": {},
   "outputs": [],
   "source": []
  }
 ],
 "metadata": {
  "kernelspec": {
   "display_name": "Algebra_Examen3-XcPWDdVJ",
   "language": "python",
   "name": "python3"
  },
  "language_info": {
   "codemirror_mode": {
    "name": "ipython",
    "version": 3
   },
   "file_extension": ".py",
   "mimetype": "text/x-python",
   "name": "python",
   "nbconvert_exporter": "python",
   "pygments_lexer": "ipython3",
   "version": "3.11.5"
  }
 },
 "nbformat": 4,
 "nbformat_minor": 2
}
